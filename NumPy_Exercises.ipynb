{
  "cells": [
    {
      "cell_type": "markdown",
      "metadata": {
        "id": "XvBZV1-98H9J"
      },
      "source": []
    },
    {
      "cell_type": "code",
      "execution_count": null,
      "metadata": {
        "id": "qti_WeXj8P6C"
      },
      "outputs": [],
      "source": [
        "import numpy as np "
      ]
    },
    {
      "cell_type": "markdown",
      "source": [
        "#1) 0-29 arası(29 dahil, toplam 30 tam sayı) tam sayılardan oluşan bir boyutlu bir array oluşturun ardından bu array'in shape'ini (15,2) şeklinde güncelleyip 2 boyutlu hale getirin.\n"
      ],
      "metadata": {
        "id": "-fU-yAc8YxJL"
      }
    },
    {
      "cell_type": "code",
      "source": [
        "arr=np.arange(30).reshape(15,2)\n",
        "arr"
      ],
      "metadata": {
        "colab": {
          "base_uri": "https://localhost:8080/"
        },
        "id": "2Pqf80_zW1hc",
        "outputId": "eba37263-4619-4213-aacc-b6922c0b1444"
      },
      "execution_count": 83,
      "outputs": [
        {
          "output_type": "execute_result",
          "data": {
            "text/plain": [
              "array([[ 0,  1],\n",
              "       [ 2,  3],\n",
              "       [ 4,  5],\n",
              "       [ 6,  7],\n",
              "       [ 8,  9],\n",
              "       [10, 11],\n",
              "       [12, 13],\n",
              "       [14, 15],\n",
              "       [16, 17],\n",
              "       [18, 19],\n",
              "       [20, 21],\n",
              "       [22, 23],\n",
              "       [24, 25],\n",
              "       [26, 27],\n",
              "       [28, 29]])"
            ]
          },
          "metadata": {},
          "execution_count": 83
        }
      ]
    },
    {
      "cell_type": "markdown",
      "source": [
        "#2) 60 adet rastgele tam sayı verilerinden oluşan bir boyutlu bir array oluşturun. Devamında bu array'i istediğiniz shapelerde 3 boyutlu hale getirin ve son durumda oluşan array'in boyutunu ve shape'ini kontrol edin.\n"
      ],
      "metadata": {
        "id": "wlT7zzF3Z7Mh"
      }
    },
    {
      "cell_type": "code",
      "source": [
        "arr=np.random.randint(10,100,60).reshape(3,5,4)\n",
        "arr"
      ],
      "metadata": {
        "colab": {
          "base_uri": "https://localhost:8080/"
        },
        "id": "9oX2bP66ZBck",
        "outputId": "7f8d04fe-8938-4444-f0f0-cfd470dfbd6f"
      },
      "execution_count": 93,
      "outputs": [
        {
          "output_type": "execute_result",
          "data": {
            "text/plain": [
              "array([[[81, 98, 12, 86],\n",
              "        [65, 92, 24, 43],\n",
              "        [77, 88, 26, 12],\n",
              "        [43, 83, 45, 31],\n",
              "        [83, 57, 91, 62]],\n",
              "\n",
              "       [[26, 65, 88, 96],\n",
              "        [91, 59, 91, 28],\n",
              "        [60, 40, 50, 69],\n",
              "        [36, 13, 86, 41],\n",
              "        [89, 37, 69, 69]],\n",
              "\n",
              "       [[63, 82, 81, 29],\n",
              "        [77, 29, 87, 38],\n",
              "        [86, 45, 67, 98],\n",
              "        [23, 97, 22, 35],\n",
              "        [88, 74, 85, 79]]])"
            ]
          },
          "metadata": {},
          "execution_count": 93
        }
      ]
    },
    {
      "cell_type": "code",
      "source": [
        "arr.shape"
      ],
      "metadata": {
        "colab": {
          "base_uri": "https://localhost:8080/"
        },
        "id": "I-afvxsfbNnE",
        "outputId": "f08abc91-445e-488e-9a4f-fbc3319c628e"
      },
      "execution_count": 92,
      "outputs": [
        {
          "output_type": "execute_result",
          "data": {
            "text/plain": [
              "(3, 5, 4)"
            ]
          },
          "metadata": {},
          "execution_count": 92
        }
      ]
    },
    {
      "cell_type": "code",
      "source": [
        "arr.ndim"
      ],
      "metadata": {
        "colab": {
          "base_uri": "https://localhost:8080/"
        },
        "id": "619oIZd9aPGH",
        "outputId": "46136fc8-3754-4a1f-e651-689043d10bf6"
      },
      "execution_count": 91,
      "outputs": [
        {
          "output_type": "execute_result",
          "data": {
            "text/plain": [
              "3"
            ]
          },
          "metadata": {},
          "execution_count": 91
        }
      ]
    },
    {
      "cell_type": "markdown",
      "source": [
        "#3) 20 elemanlı ve sadece rakamlardan oluşan iki boyutlu bir array oluşturun. Ardından bu array'i düzleştirin ve tek boyutlu hale getirin ve son durumda oluşan array'in boyutunu ve shape'ini kontrol edin.\n"
      ],
      "metadata": {
        "id": "LDhj4suLbJNu"
      }
    },
    {
      "cell_type": "code",
      "source": [
        "arr=np.arange(20).reshape(4,5)\n",
        "arr.reshape(-1)"
      ],
      "metadata": {
        "colab": {
          "base_uri": "https://localhost:8080/"
        },
        "id": "A3Xs3bmEbIKI",
        "outputId": "f010d70f-b332-4a76-dc05-4b9a475d07e8"
      },
      "execution_count": 109,
      "outputs": [
        {
          "output_type": "execute_result",
          "data": {
            "text/plain": [
              "array([ 0,  1,  2,  3,  4,  5,  6,  7,  8,  9, 10, 11, 12, 13, 14, 15, 16,\n",
              "       17, 18, 19])"
            ]
          },
          "metadata": {},
          "execution_count": 109
        }
      ]
    },
    {
      "cell_type": "markdown",
      "source": [
        "#4) İstediğiniz herhangi elemanlardan oluşan 2 Boyutlu bir array oluşturun. Oluşturduğunuz bu 2 boyutlu array'in içindeki bütün elemanları hem yavaş yol olan for döngüsüyle hem de daha hızlı yol olan uygun NumPy metoduyla tek tek dönerek ekrana yazdırın.\n"
      ],
      "metadata": {
        "id": "3huOBMzycuJP"
      }
    },
    {
      "cell_type": "code",
      "source": [
        "arr=np.arange(20).reshape(10,2)\n",
        "for x in arr:\n",
        "  for y in x :\n",
        "    print(y)\n"
      ],
      "metadata": {
        "colab": {
          "base_uri": "https://localhost:8080/"
        },
        "id": "p3NjfssIbYXk",
        "outputId": "01c0fe00-b65e-4d23-ce4a-b41186283193"
      },
      "execution_count": 126,
      "outputs": [
        {
          "output_type": "stream",
          "name": "stdout",
          "text": [
            "0\n",
            "1\n",
            "2\n",
            "3\n",
            "4\n",
            "5\n",
            "6\n",
            "7\n",
            "8\n",
            "9\n",
            "10\n",
            "11\n",
            "12\n",
            "13\n",
            "14\n",
            "15\n",
            "16\n",
            "17\n",
            "18\n",
            "19\n"
          ]
        }
      ]
    },
    {
      "cell_type": "code",
      "source": [
        "for x in np.nditer(arr):\n",
        "  print(x)"
      ],
      "metadata": {
        "colab": {
          "base_uri": "https://localhost:8080/"
        },
        "id": "pE_ujOE7dFq3",
        "outputId": "1acf2868-afe6-4243-ec06-bb35b0d0fb0a"
      },
      "execution_count": 132,
      "outputs": [
        {
          "output_type": "stream",
          "name": "stdout",
          "text": [
            "0\n",
            "1\n",
            "2\n",
            "3\n",
            "4\n",
            "5\n",
            "6\n",
            "7\n",
            "8\n",
            "9\n",
            "10\n",
            "11\n",
            "12\n",
            "13\n",
            "14\n",
            "15\n",
            "16\n",
            "17\n",
            "18\n",
            "19\n"
          ]
        }
      ]
    },
    {
      "cell_type": "markdown",
      "source": [
        "#5) 5,10,15,20,25,30 değerlerinden oluşan bir boyutlu bir array ve 1,2,3,4,5,6 değerlerinden oluşan başka bir boyutlu bir array oluşturun. Bu arraylerinin elemanlarına kendi aralarında 4 işlem uygulayın. İki arrayinde 1.indexindekiler toplansın/çıkartılsın/çarpılsın/bölünsün gibi."
      ],
      "metadata": {
        "id": "dCK-dVlee22L"
      }
    },
    {
      "cell_type": "code",
      "source": [
        "arr1=np.array([5,10,15,20,25,30])\n",
        "arr2=np.array([1,2,3,4,5,6])\n",
        "print(arr1*arr2)\n",
        "print(\"\\n\")\n",
        "print(arr1/arr2)\n",
        "print(\"\\n\")\n",
        "print(arr1+arr2)\n",
        "print(\"\\n\")\n",
        "print(arr1-arr2)"
      ],
      "metadata": {
        "colab": {
          "base_uri": "https://localhost:8080/"
        },
        "id": "IgJqNT9mdS5d",
        "outputId": "b184224d-191f-41a2-c363-5253101db607"
      },
      "execution_count": 138,
      "outputs": [
        {
          "output_type": "stream",
          "name": "stdout",
          "text": [
            "[  5  20  45  80 125 180]\n",
            "\n",
            "\n",
            "[5. 5. 5. 5. 5. 5.]\n",
            "\n",
            "\n",
            "[ 6 12 18 24 30 36]\n",
            "\n",
            "\n",
            "[ 4  8 12 16 20 24]\n"
          ]
        }
      ]
    },
    {
      "cell_type": "markdown",
      "source": [
        "#6) 0-100 arası rastgele 10 tam sayıdan oluşan bir array oluşturun ve oluşturulan arrayin sum/mean/max/var/std değerlerini inceleyin.\n"
      ],
      "metadata": {
        "id": "Q4O-HUHmf_0U"
      }
    },
    {
      "cell_type": "code",
      "source": [
        "arr=np.random.randint(0,100,10)\n",
        "print(arr.mean())\n",
        "print(\"\\n\\n\")\n",
        "print(arr.max())\n",
        "print(\"\\n\\n\")\n",
        "print(arr.sum())\n",
        "print(\"\\n\\n\")\n",
        "print(arr.var())\n",
        "print(\"\\n\\n\")\n",
        "print(arr.std())"
      ],
      "metadata": {
        "colab": {
          "base_uri": "https://localhost:8080/"
        },
        "id": "siuXtrBAffK6",
        "outputId": "08106571-009f-420b-dfd1-2a4739b16bef"
      },
      "execution_count": 148,
      "outputs": [
        {
          "output_type": "stream",
          "name": "stdout",
          "text": [
            "50.3\n",
            "\n",
            "\n",
            "\n",
            "92\n",
            "\n",
            "\n",
            "\n",
            "503\n",
            "\n",
            "\n",
            "\n",
            "850.8100000000001\n",
            "\n",
            "\n",
            "\n",
            "29.168647551780662\n"
          ]
        }
      ]
    },
    {
      "cell_type": "markdown",
      "source": [
        "#7) 0-20 arası(20 dahil değil) tam sayılardan oluşan ve 500-530(530 dahil) arası tam sayılardan oluşan 2 array oluşturun. Ardından bu iki array'i concatenate ederek ekrana yazdırın.\n"
      ],
      "metadata": {
        "id": "s6a3ySOvg5OR"
      }
    },
    {
      "cell_type": "code",
      "source": [
        "arr1=np.arange(20)\n",
        "arr2=np.arange(500,530)\n",
        "np.concatenate([arr1,arr2])"
      ],
      "metadata": {
        "colab": {
          "base_uri": "https://localhost:8080/"
        },
        "id": "lSflfSUGgMXT",
        "outputId": "76b1e8d4-b2bc-452b-8e8c-068122df7b04"
      },
      "execution_count": 150,
      "outputs": [
        {
          "output_type": "execute_result",
          "data": {
            "text/plain": [
              "array([  0,   1,   2,   3,   4,   5,   6,   7,   8,   9,  10,  11,  12,\n",
              "        13,  14,  15,  16,  17,  18,  19, 500, 501, 502, 503, 504, 505,\n",
              "       506, 507, 508, 509, 510, 511, 512, 513, 514, 515, 516, 517, 518,\n",
              "       519, 520, 521, 522, 523, 524, 525, 526, 527, 528, 529])"
            ]
          },
          "metadata": {},
          "execution_count": 150
        }
      ]
    },
    {
      "cell_type": "markdown",
      "source": [
        "#8) 15-50(50 dahil) arası tam sayılardan oluşan bir array oluşturun. Daha sonra 10-100 arası(100 dahil) tam sayılardan oluşan 2.bir array oluşturun. Bu 2 arrayi concatanate ederek 3.bir array oluşturun ve bu array'in 25.index ile 50.index'i(50 dahil) arasındaki değerlerini 888 yapın.\n"
      ],
      "metadata": {
        "id": "7fEFBWAlhT2x"
      }
    },
    {
      "cell_type": "code",
      "source": [
        "arr1=np.arange(20)\n",
        "arr2=np.arange(500,530)\n",
        "arr3=np.concatenate([arr1,arr2])\n",
        "arr3[25:50]=888\n",
        "arr3"
      ],
      "metadata": {
        "colab": {
          "base_uri": "https://localhost:8080/"
        },
        "id": "VIZ1TFD1hL4y",
        "outputId": "0b451448-9d21-4d3e-f9cb-436ba26b9aa4"
      },
      "execution_count": 153,
      "outputs": [
        {
          "output_type": "execute_result",
          "data": {
            "text/plain": [
              "array([  0,   1,   2,   3,   4,   5,   6,   7,   8,   9,  10,  11,  12,\n",
              "        13,  14,  15,  16,  17,  18,  19, 500, 501, 502, 503, 504, 888,\n",
              "       888, 888, 888, 888, 888, 888, 888, 888, 888, 888, 888, 888, 888,\n",
              "       888, 888, 888, 888, 888, 888, 888, 888, 888, 888, 888])"
            ]
          },
          "metadata": {},
          "execution_count": 153
        }
      ]
    },
    {
      "cell_type": "markdown",
      "source": [
        "#9) 0-40(40 dahil değil) arası değerlerden oluşan (8,5) shape'inde 2 boyutlu bir array ve  320-360(360 dahil değil) değerlerinden oluşan (8,5) shape'inde 2 boyutlubaşka bir array oluşturun. Devamında bu iki array'i hem axis = 0'da hem de axis = 1'de concatenate ederek farkı karşılaştırın.\n"
      ],
      "metadata": {
        "id": "gfCi38W7hxAE"
      }
    },
    {
      "cell_type": "code",
      "source": [
        "arr1=np.arange(40).reshape(8,5)\n",
        "arr2=np.arange(320,360).reshape(8,5)\n",
        "print(np.concatenate([arr1,arr2],axis=0))\n",
        "print(np.concatenate([arr1,arr2],axis=1))\n"
      ],
      "metadata": {
        "colab": {
          "base_uri": "https://localhost:8080/"
        },
        "id": "wJAOZED0hklA",
        "outputId": "46c60def-9f43-45a7-9ac0-d9b99e5767bb"
      },
      "execution_count": 154,
      "outputs": [
        {
          "output_type": "stream",
          "name": "stdout",
          "text": [
            "[[  0   1   2   3   4]\n",
            " [  5   6   7   8   9]\n",
            " [ 10  11  12  13  14]\n",
            " [ 15  16  17  18  19]\n",
            " [ 20  21  22  23  24]\n",
            " [ 25  26  27  28  29]\n",
            " [ 30  31  32  33  34]\n",
            " [ 35  36  37  38  39]\n",
            " [320 321 322 323 324]\n",
            " [325 326 327 328 329]\n",
            " [330 331 332 333 334]\n",
            " [335 336 337 338 339]\n",
            " [340 341 342 343 344]\n",
            " [345 346 347 348 349]\n",
            " [350 351 352 353 354]\n",
            " [355 356 357 358 359]]\n",
            "[[  0   1   2   3   4 320 321 322 323 324]\n",
            " [  5   6   7   8   9 325 326 327 328 329]\n",
            " [ 10  11  12  13  14 330 331 332 333 334]\n",
            " [ 15  16  17  18  19 335 336 337 338 339]\n",
            " [ 20  21  22  23  24 340 341 342 343 344]\n",
            " [ 25  26  27  28  29 345 346 347 348 349]\n",
            " [ 30  31  32  33  34 350 351 352 353 354]\n",
            " [ 35  36  37  38  39 355 356 357 358 359]]\n"
          ]
        }
      ]
    },
    {
      "cell_type": "markdown",
      "source": [
        "#10) 9.Soruda oluşturduğunuz 2 array'i axis = 2'de concatenate etmeye çalışın. Ardından axis = 2'de stacklemeye(yığınlamaya) çalışın. İkisi arasındaki farkı karşılaştırın.\n"
      ],
      "metadata": {
        "id": "WIcd08gnifwi"
      }
    },
    {
      "cell_type": "code",
      "source": [
        "arr1=np.arange(40).reshape(8,5)\n",
        "arr2=np.arange(320,360).reshape(8,5)\n",
        "print(np.stack([arr1,arr2],axis=2))"
      ],
      "metadata": {
        "colab": {
          "base_uri": "https://localhost:8080/"
        },
        "id": "M1jrsaIlijFV",
        "outputId": "ae436c5a-5bb8-4d90-dfc0-56efbfbbe83b"
      },
      "execution_count": 157,
      "outputs": [
        {
          "output_type": "stream",
          "name": "stdout",
          "text": [
            "[[[  0 320]\n",
            "  [  1 321]\n",
            "  [  2 322]\n",
            "  [  3 323]\n",
            "  [  4 324]]\n",
            "\n",
            " [[  5 325]\n",
            "  [  6 326]\n",
            "  [  7 327]\n",
            "  [  8 328]\n",
            "  [  9 329]]\n",
            "\n",
            " [[ 10 330]\n",
            "  [ 11 331]\n",
            "  [ 12 332]\n",
            "  [ 13 333]\n",
            "  [ 14 334]]\n",
            "\n",
            " [[ 15 335]\n",
            "  [ 16 336]\n",
            "  [ 17 337]\n",
            "  [ 18 338]\n",
            "  [ 19 339]]\n",
            "\n",
            " [[ 20 340]\n",
            "  [ 21 341]\n",
            "  [ 22 342]\n",
            "  [ 23 343]\n",
            "  [ 24 344]]\n",
            "\n",
            " [[ 25 345]\n",
            "  [ 26 346]\n",
            "  [ 27 347]\n",
            "  [ 28 348]\n",
            "  [ 29 349]]\n",
            "\n",
            " [[ 30 350]\n",
            "  [ 31 351]\n",
            "  [ 32 352]\n",
            "  [ 33 353]\n",
            "  [ 34 354]]\n",
            "\n",
            " [[ 35 355]\n",
            "  [ 36 356]\n",
            "  [ 37 357]\n",
            "  [ 38 358]\n",
            "  [ 39 359]]]\n"
          ]
        }
      ]
    },
    {
      "cell_type": "markdown",
      "source": [
        "#11) [1, 20, 25, 4, 4, 5, 4, 4, 1, 6, 9, 12, 1, 5] değerlerinden oluşan bir boyutlu bir array oluşturun. Devamında bu array'in içinde değeri 5'e eşit olan değerlerin indexleri bulun.\n"
      ],
      "metadata": {
        "id": "31qcHkIrjF_S"
      }
    },
    {
      "cell_type": "code",
      "source": [
        "arr=np.array([1,20,25,4,4,5,4,4,1,6,9,12,1,5])\n",
        "np.where(arr==5)"
      ],
      "metadata": {
        "colab": {
          "base_uri": "https://localhost:8080/"
        },
        "id": "cakRHUJyi3F5",
        "outputId": "b1320cdf-9307-449e-b370-0c56cf23a770"
      },
      "execution_count": 160,
      "outputs": [
        {
          "output_type": "execute_result",
          "data": {
            "text/plain": [
              "(array([ 5, 13]),)"
            ]
          },
          "metadata": {},
          "execution_count": 160
        }
      ]
    },
    {
      "cell_type": "markdown",
      "source": [
        "#12) Yukarıda oluşturduğunuz array içinde değeri çift olan değerlerin indexlerini bulun.\n"
      ],
      "metadata": {
        "id": "d9yY2kfpj8fg"
      }
    },
    {
      "cell_type": "code",
      "source": [
        "arr=np.array([1,20,25,4,4,5,4,4,1,6,9,12,1,5])\n",
        "np.where(arr%2==0)"
      ],
      "metadata": {
        "colab": {
          "base_uri": "https://localhost:8080/"
        },
        "id": "KsMpoquwjiGz",
        "outputId": "c3ffdf51-ba5d-4f3d-cf5c-6a28cbf11d43"
      },
      "execution_count": 161,
      "outputs": [
        {
          "output_type": "execute_result",
          "data": {
            "text/plain": [
              "(array([ 1,  3,  4,  6,  7,  9, 11]),)"
            ]
          },
          "metadata": {},
          "execution_count": 161
        }
      ]
    },
    {
      "cell_type": "markdown",
      "source": [
        "#13) Yukarıda oluşturduğunuz array içinde değeri 4'den büyük olan değerlerin indexlerini bulun.\n"
      ],
      "metadata": {
        "id": "eI_sRV0RkVx2"
      }
    },
    {
      "cell_type": "code",
      "source": [
        "arr=np.array([1,20,25,4,4,5,4,4,1,6,9,12,1,5])\n",
        "np.where(arr>4)"
      ],
      "metadata": {
        "colab": {
          "base_uri": "https://localhost:8080/"
        },
        "id": "VsbyXF1jkMac",
        "outputId": "7694846e-7805-4019-def9-57893da8d7da"
      },
      "execution_count": 162,
      "outputs": [
        {
          "output_type": "execute_result",
          "data": {
            "text/plain": [
              "(array([ 1,  2,  5,  9, 10, 11, 13]),)"
            ]
          },
          "metadata": {},
          "execution_count": 162
        }
      ]
    },
    {
      "cell_type": "markdown",
      "source": [
        "#14) Yukarıda oluşturduğunuz array içinde değeri 5'e tam bölünen değerlerin indexlerini bulun.\n"
      ],
      "metadata": {
        "id": "fdH320gDklAp"
      }
    },
    {
      "cell_type": "code",
      "source": [
        "arr=np.array([1,20,25,4,4,5,4,4,1,6,9,12,1,5])\n",
        "np.where(arr%5==0)"
      ],
      "metadata": {
        "colab": {
          "base_uri": "https://localhost:8080/"
        },
        "id": "52rmkqRnkkFy",
        "outputId": "5950527a-b01a-49e3-88ed-c24afaff03fd"
      },
      "execution_count": 166,
      "outputs": [
        {
          "output_type": "execute_result",
          "data": {
            "text/plain": [
              "(array([ 1,  2,  5, 13]),)"
            ]
          },
          "metadata": {},
          "execution_count": 166
        }
      ]
    },
    {
      "cell_type": "markdown",
      "source": [
        "#15) 85-100(100 dahil) arasından rastgele 1 tam sayı seçin\n"
      ],
      "metadata": {
        "id": "7g1JFtBvlURf"
      }
    },
    {
      "cell_type": "code",
      "source": [
        "arr=np.random.randint(85,100)\n",
        "np.random.choice(arr)"
      ],
      "metadata": {
        "colab": {
          "base_uri": "https://localhost:8080/"
        },
        "id": "Kb8IdMOQlAEn",
        "outputId": "a2877444-ab4a-40c6-ec7e-2d8897f0ec04"
      },
      "execution_count": 168,
      "outputs": [
        {
          "output_type": "execute_result",
          "data": {
            "text/plain": [
              "14"
            ]
          },
          "metadata": {},
          "execution_count": 168
        }
      ]
    },
    {
      "cell_type": "markdown",
      "source": [
        "#16) İki basamaklı tam sayılar arasından rastgele sayılar seçerek (3,3) shape'inde bir array oluşturun.\n"
      ],
      "metadata": {
        "id": "SW8LX6CylnfJ"
      }
    },
    {
      "cell_type": "code",
      "source": [
        "arr=np.random.randint(10,100,size=(3,3))\n",
        "arr"
      ],
      "metadata": {
        "colab": {
          "base_uri": "https://localhost:8080/"
        },
        "id": "bkpr0O4Oljgi",
        "outputId": "0fa89fff-6e3c-416f-9923-870d06ab6d58"
      },
      "execution_count": 170,
      "outputs": [
        {
          "output_type": "execute_result",
          "data": {
            "text/plain": [
              "array([[77, 82, 94],\n",
              "       [88, 79, 84],\n",
              "       [87, 37, 81]])"
            ]
          },
          "metadata": {},
          "execution_count": 170
        }
      ]
    },
    {
      "cell_type": "markdown",
      "source": [
        "#17) 35-60 arasındaki tam sayılardan bir array oluşturun, ardından bu array içinden rastgele 1 tam sayı seçin.\n"
      ],
      "metadata": {
        "id": "O9SvB14JmAhr"
      }
    },
    {
      "cell_type": "code",
      "source": [
        "arr=np.arange(35,60)\n",
        "arr"
      ],
      "metadata": {
        "colab": {
          "base_uri": "https://localhost:8080/"
        },
        "id": "AfKOM6YAl-Km",
        "outputId": "bf281447-2db1-4735-fd70-99be237bb36a"
      },
      "execution_count": 173,
      "outputs": [
        {
          "output_type": "execute_result",
          "data": {
            "text/plain": [
              "array([35, 36, 37, 38, 39, 40, 41, 42, 43, 44, 45, 46, 47, 48, 49, 50, 51,\n",
              "       52, 53, 54, 55, 56, 57, 58, 59])"
            ]
          },
          "metadata": {},
          "execution_count": 173
        }
      ]
    },
    {
      "cell_type": "code",
      "source": [
        "np.random.choice(arr)"
      ],
      "metadata": {
        "colab": {
          "base_uri": "https://localhost:8080/"
        },
        "id": "CdUyINfrmRUz",
        "outputId": "a12dd4c7-d522-4486-a35c-8a8ccd602659"
      },
      "execution_count": 175,
      "outputs": [
        {
          "output_type": "execute_result",
          "data": {
            "text/plain": [
              "37"
            ]
          },
          "metadata": {},
          "execution_count": 175
        }
      ]
    },
    {
      "cell_type": "markdown",
      "source": [
        "#18) Sadece [3, 8, 10, 53] değerlerinden oluşan (2,5) shape'inde 2 boyutlu bir array oluşturun."
      ],
      "metadata": {
        "id": "G9SkKB_UmpNC"
      }
    },
    {
      "cell_type": "code",
      "source": [
        "arr=np.random.choice([3,8,10,53],size=(2,5))\n",
        "arr"
      ],
      "metadata": {
        "colab": {
          "base_uri": "https://localhost:8080/"
        },
        "id": "zWpugPzYmgLx",
        "outputId": "2dd05c6d-d686-402c-b2c9-425dbcbb1393"
      },
      "execution_count": 179,
      "outputs": [
        {
          "output_type": "execute_result",
          "data": {
            "text/plain": [
              "array([[ 8, 10,  8, 53, 53],\n",
              "       [ 8,  3,  8,  8, 53]])"
            ]
          },
          "metadata": {},
          "execution_count": 179
        }
      ]
    },
    {
      "cell_type": "code",
      "source": [],
      "metadata": {
        "id": "hPcZ0q1Ym6ye"
      },
      "execution_count": null,
      "outputs": []
    }
  ],
  "metadata": {
    "colab": {
      "provenance": []
    },
    "kernelspec": {
      "display_name": "Python 3",
      "name": "python3"
    },
    "language_info": {
      "name": "python"
    }
  },
  "nbformat": 4,
  "nbformat_minor": 0
}